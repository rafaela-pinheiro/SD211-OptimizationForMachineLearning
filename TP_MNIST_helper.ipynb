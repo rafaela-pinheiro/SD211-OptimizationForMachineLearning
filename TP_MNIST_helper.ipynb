{
 "cells": [
  {
   "cell_type": "code",
   "execution_count": 2,
   "id": "149938de",
   "metadata": {},
   "outputs": [],
   "source": [
    "import numpy as np\n",
    "import tensorflow as tf\n",
    "from tensorflow import keras\n",
    "from tensorflow.keras import layers\n",
    "import matplotlib.pyplot as plt"
   ]
  },
  {
   "cell_type": "markdown",
   "id": "657ee878-16b7-46ab-811d-48aebc085cf1",
   "metadata": {},
   "source": [
    "# 1. Loading the data"
   ]
  },
  {
   "cell_type": "code",
   "execution_count": 3,
   "id": "9afc7a6a-14b1-4bf8-8cbf-f15d61a2c1ac",
   "metadata": {},
   "outputs": [
    {
     "name": "stdout",
     "output_type": "stream",
     "text": [
      "Downloading data from https://storage.googleapis.com/tensorflow/tf-keras-datasets/mnist.npz\n",
      "11490434/11490434 [==============================] - 2s 0us/step\n"
     ]
    }
   ],
   "source": [
    "train_data, test_data = tf.keras.datasets.mnist.load_data(path=\"mnist.npz\")\n",
    "x_train = train_data[0].reshape(-1,784).astype(float) / 255\n",
    "y_train = train_data[1]"
   ]
  },
  {
   "cell_type": "code",
   "execution_count": 4,
   "id": "76f055f2-a9f7-4905-bab0-d2d53287b65e",
   "metadata": {},
   "outputs": [
    {
     "name": "stdout",
     "output_type": "stream",
     "text": [
      "label is 7\n"
     ]
    },
    {
     "data": {
      "text/plain": [
       "<matplotlib.image.AxesImage at 0x19a00047c90>"
      ]
     },
     "execution_count": 4,
     "metadata": {},
     "output_type": "execute_result"
    },
    {
     "data": {
      "image/png": "[encoded data removed]",
      "text/plain": [
       "<Figure size 640x480 with 1 Axes>"
      ]
     },
     "metadata": {},
     "output_type": "display_data"
    }
   ],
   "source": [
    "# exploring the data\n",
    "i = np.random.randint(y_train.size)\n",
    "\n",
    "print(\"label is\", y_train[i])\n",
    "plt.imshow(train_data[0][i], cmap='gray')"
   ]
  },
  {
   "cell_type": "markdown",
   "id": "8feee3fb-8b54-4cd2-8ee1-a003d1292f8a",
   "metadata": {},
   "source": [
    "# 2. Building the model\n",
    "\n",
    "We use Keras to build a fully-connected neural network.\n",
    "\n",
    "For more details, see https://keras.io/guides/training_with_built_in_methods/"
   ]
  },
  {
   "cell_type": "code",
   "execution_count": 5,
   "id": "4b521b78",
   "metadata": {},
   "outputs": [
    {
     "name": "stdout",
     "output_type": "stream",
     "text": [
      "WARNING:tensorflow:From c:\\Users\\rafin\\AppData\\Local\\Programs\\Python\\Python311\\Lib\\site-packages\\keras\\src\\backend.py:1398: The name tf.executing_eagerly_outside_functions is deprecated. Please use tf.compat.v1.executing_eagerly_outside_functions instead.\n",
      "\n",
      "Model: \"mnist_model\"\n",
      "_________________________________________________________________\n",
      " Layer (type)                Output Shape              Param #   \n",
      "=================================================================\n",
      " digits (InputLayer)         [(None, 784)]             0         \n",
      "                                                                 \n",
      " dense_1 (Dense)             (None, 32)                25120     \n",
      "                                                                 \n",
      " dense_2 (Dense)             (None, 32)                1056      \n",
      "                                                                 \n",
      " predictions (Dense)         (None, 10)                330       \n",
      "                                                                 \n",
      "=================================================================\n",
      "Total params: 26506 (103.54 KB)\n",
      "Trainable params: 26506 (103.54 KB)\n",
      "Non-trainable params: 0 (0.00 Byte)\n",
      "_________________________________________________________________\n"
     ]
    }
   ],
   "source": [
    "# source : https://keras.io/guides/training_with_built_in_methods/\n",
    "\n",
    "def build_model():\n",
    "    inputs = keras.Input(shape=(784,), name=\"digits\")\n",
    "    x = layers.Dense(32, activation=\"relu\", name=\"dense_1\")(inputs)\n",
    "    x = layers.Dense(32, activation=\"relu\", name=\"dense_2\")(x)\n",
    "    outputs = layers.Dense(10, activation=\"softmax\", name=\"predictions\")(x)\n",
    "    \n",
    "    model = keras.Model(inputs=inputs, outputs=outputs, name=\"mnist_model\")\n",
    "    return model\n",
    "\n",
    "model = build_model()\n",
    "\n",
    "loss = keras.losses.sparse_categorical_crossentropy\n",
    "\n",
    "model.summary()"
   ]
  },
  {
   "cell_type": "code",
   "execution_count": 6,
   "id": "b18b6bdb",
   "metadata": {},
   "outputs": [
    {
     "data": {
      "text/plain": [
       "array([5, 7, 5, 5, 5, 5, 5, 7, 5, 5, 5, 5, 5, 5, 5, 5, 5, 5, 1, 5, 5, 5,\n",
       "       7, 5, 5, 5, 5, 5, 5, 5], dtype=int64)"
      ]
     },
     "execution_count": 6,
     "metadata": {},
     "output_type": "execute_result"
    }
   ],
   "source": [
    "# untrained model\n",
    "predicted_probas = model(x_train)\n",
    "y_pred = np.argmax(predicted_probas, 1) # the prediction is the class with highest probability\n",
    "y_pred[0:30]"
   ]
  },
  {
   "cell_type": "code",
   "execution_count": 7,
   "id": "35d74f67",
   "metadata": {},
   "outputs": [
    {
     "data": {
      "text/plain": [
       "array([5, 0, 4, 1, 9, 2, 1, 3, 1, 4, 3, 5, 3, 6, 1, 7, 2, 8, 6, 9, 4, 0,\n",
       "       9, 1, 1, 2, 4, 3, 2, 7], dtype=uint8)"
      ]
     },
     "execution_count": 7,
     "metadata": {},
     "output_type": "execute_result"
    }
   ],
   "source": [
    "# what we would like to get\n",
    "y_train[0:30]"
   ]
  },
  {
   "cell_type": "markdown",
   "id": "a2c1255b-36d0-4d05-a5a0-fa9408742b56",
   "metadata": {},
   "source": [
    "# 3. Computing gradients\n",
    "\n",
    "We are now going to implement the stochastic gradient method using the Keras functionalities. \n",
    "\n",
    "First, we need to understand how to compute gradients using auto-differentation (also called **backpropagation**)."
   ]
  },
  {
   "cell_type": "code",
   "execution_count": 8,
   "id": "e7cbc050-6044-4149-9354-0d3870837d82",
   "metadata": {},
   "outputs": [],
   "source": [
    "# Source: https://keras.io/guides/writing_a_custom_training_loop_in_tensorflow/\n",
    "\n",
    "# Example of gradient computation using automatic differentiation\n",
    "\n",
    "# selecting a batch\n",
    "x_train_batch = x_train[:8]\n",
    "y_train_batch = y_train[:8]\n",
    "\n",
    "# Open a GradientTape to record the operations run\n",
    "# during the forward pass, which enables auto-differentiation.\n",
    "with tf.GradientTape() as tape:\n",
    "        # Run the forward pass of the layer.\n",
    "        # The operations that the layer applies\n",
    "        # to its inputs are going to be recorded\n",
    "        # on the GradientTape.\n",
    "    \n",
    "        logits = model(x_train_batch)  # Logits for this minibatch (the logits are the name we give to the Neural Network output)\n",
    "\n",
    "        # Compute the loss value for this minibatch.\n",
    "        loss_value = loss(y_train_batch, logits)\n",
    "\n",
    "# Use the gradient tape to automatically retrieve\n",
    "# the gradients of the trainable variables with respect to the loss.\n",
    "grad = tape.gradient(loss_value, model.trainable_weights)"
   ]
  },
  {
   "cell_type": "markdown",
   "id": "f2f189a1-5cec-4723-93fc-8693ec8d6a5c",
   "metadata": {},
   "source": [
    "We also define two important helper functions."
   ]
  },
  {
   "cell_type": "code",
   "execution_count": 9,
   "id": "dab2abd2-91e5-4b9e-a863-e1e3ea3dcd64",
   "metadata": {},
   "outputs": [],
   "source": [
    "## update the weights by adding real_factor * update\n",
    "def update_weights(model, update, real_factor = 1.):\n",
    "    new_weights = model.trainable_weights.copy()\n",
    "\n",
    "    # iterate over all layers\n",
    "    for i in range(len(new_weights)):\n",
    "        new_weights[i] = new_weights[i] + real_factor * update[i]\n",
    "        \n",
    "    model.set_weights(new_weights)\n",
    "\n",
    "\n",
    "# Evaluate model\n",
    "def mean_loss(model, X, Y):\n",
    "    logits = model(X)\n",
    "    return np.mean(loss(Y, logits))"
   ]
  },
  {
   "cell_type": "code",
   "execution_count": 10,
   "id": "9c11dcf5-bcd8-403b-ae60-41c755b5c5ec",
   "metadata": {},
   "outputs": [
    {
     "data": {
      "text/plain": [
       "2.3458724"
      ]
     },
     "execution_count": 10,
     "metadata": {},
     "output_type": "execute_result"
    }
   ],
   "source": [
    "# evaluating the train loss on the whole dataset\n",
    "# this is a costly operation, use sparsely\n",
    "mean_loss(model, x_train, y_train)"
   ]
  },
  {
   "cell_type": "markdown",
   "id": "ae0785ce-c5e2-4103-b4a8-1b10df2abf4d",
   "metadata": {},
   "source": [
    "# 4. Training the model"
   ]
  },
  {
   "cell_type": "code",
   "execution_count": 13,
   "id": "246c8ebb-a57e-4548-a69c-338055cf04a4",
   "metadata": {
    "scrolled": true
   },
   "outputs": [],
   "source": [
    "# Stochastic gradient algorithm\n",
    "\n",
    "# TO IMPLEMENT\n",
    "def SGD(model, x_train, y_train, learning_rate, epochs=1, batch_size=1):\n",
    "    pass"
   ]
  },
  {
   "cell_type": "code",
   "execution_count": null,
   "id": "79465229-cdc5-47d2-9a01-ad10f01132b1",
   "metadata": {},
   "outputs": [],
   "source": [
    "# initialize model\n",
    "model = build_model()\n",
    "\n",
    "# run SGD \n",
    "# ..."
   ]
  },
  {
   "cell_type": "code",
   "execution_count": null,
   "id": "9d9bf5cc",
   "metadata": {},
   "outputs": [],
   "source": []
  },
  {
   "cell_type": "code",
   "execution_count": null,
   "id": "24d39aac",
   "metadata": {},
   "outputs": [],
   "source": []
  }
 ],
 "metadata": {
  "kernelspec": {
   "display_name": "Python 3",
   "language": "python",
   "name": "python3"
  },
  "language_info": {
   "codemirror_mode": {
    "name": "ipython",
    "version": 3
   },
   "file_extension": ".py",
   "mimetype": "text/x-python",
   "name": "python",
   "nbconvert_exporter": "python",
   "pygments_lexer": "ipython3",
   "version": "3.11.5"
  }
 },
 "nbformat": 4,
 "nbformat_minor": 5
}
